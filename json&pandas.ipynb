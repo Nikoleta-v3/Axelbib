{
 "cells": [
  {
   "cell_type": "markdown",
   "metadata": {},
   "source": [
    "JSON Results of Axelbib to Pandas\n",
    "---------------------------------\n",
    "\n",
    "This notebook is going to be used for analysing the results on requests on the Axelbib database. \n",
    "We are using a request to get the json files from Axelbib's framework (created with Django Rest).\n",
    "Furthermore, by conducting some alterations and normanlizations on the results of the request we\n",
    "are able to pass the results into a pandas dataframe, which will be used to conduct our analysis."
   ]
  },
  {
   "cell_type": "code",
   "execution_count": 6,
   "metadata": {
    "collapsed": false
   },
   "outputs": [],
   "source": [
    "import requests\n",
    "import pandas as pd\n",
    "from pandas.io.json import json_normalize\n",
    "import json"
   ]
  },
  {
   "cell_type": "code",
   "execution_count": 7,
   "metadata": {
    "collapsed": true
   },
   "outputs": [],
   "source": [
    "from password import password # password is a local py file containing my password"
   ]
  },
  {
   "cell_type": "code",
   "execution_count": 8,
   "metadata": {
    "collapsed": false
   },
   "outputs": [],
   "source": [
    "req = requests.get('http://127.0.0.1:8000/article/', auth=(\"nikoleta\", password)) # a request of all the articles"
   ]
  },
  {
   "cell_type": "code",
   "execution_count": 9,
   "metadata": {
    "collapsed": false
   },
   "outputs": [],
   "source": [
    "results_of_req = req.json()['results'] # the results "
   ]
  },
  {
   "cell_type": "code",
   "execution_count": 10,
   "metadata": {
    "collapsed": false
   },
   "outputs": [],
   "source": [
    "# the actual results into a pd frame, using a pandas function\n",
    "results = pd.io.json.json_normalize(results_of_req) "
   ]
  },
  {
   "cell_type": "code",
   "execution_count": 11,
   "metadata": {
    "collapsed": false
   },
   "outputs": [
    {
     "data": {
      "text/html": [
       "<div>\n",
       "<table border=\"1\" class=\"dataframe\">\n",
       "  <thead>\n",
       "    <tr style=\"text-align: right;\">\n",
       "      <th></th>\n",
       "      <th>abstract</th>\n",
       "      <th>author</th>\n",
       "      <th>date.papers_on_specific_year</th>\n",
       "      <th>date.url</th>\n",
       "      <th>date.year</th>\n",
       "      <th>journal</th>\n",
       "      <th>key</th>\n",
       "      <th>labels</th>\n",
       "      <th>list_strategies</th>\n",
       "      <th>pages</th>\n",
       "      <th>title</th>\n",
       "    </tr>\n",
       "  </thead>\n",
       "  <tbody>\n",
       "    <tr>\n",
       "      <th>0</th>\n",
       "      <td>This is a “primer” on how to play the iterated...</td>\n",
       "      <td>[{'name': 'R. Axelrod', 'papers_on_this_db': 5...</td>\n",
       "      <td>2</td>\n",
       "      <td>http://127.0.0.1:8000/year/1/</td>\n",
       "      <td>1980</td>\n",
       "      <td>The Journal of Conflict Resolution</td>\n",
       "      <td>Axelrod1980a</td>\n",
       "      <td>[{'label': 'Simple Tournament'}]</td>\n",
       "      <td>[{'strategy_name': 'Tit For Tat'}, {'strategy_...</td>\n",
       "      <td>3-25</td>\n",
       "      <td>Effective Choice in the Prisoner's Dilemma</td>\n",
       "    </tr>\n",
       "    <tr>\n",
       "      <th>1</th>\n",
       "      <td>Fingerprinting is a technique for generating a...</td>\n",
       "      <td>[{'name': 'D. Ashlock', 'papers_on_this_db': 1...</td>\n",
       "      <td>1</td>\n",
       "      <td>http://127.0.0.1:8000/year/3/</td>\n",
       "      <td>2008</td>\n",
       "      <td>IEEE Transactions on Evolutionary Computation</td>\n",
       "      <td>Ashlock2008</td>\n",
       "      <td>[{'label': 'Fingerpriting'}]</td>\n",
       "      <td>[{'strategy_name': 'Tit For Tat'}, {'strategy_...</td>\n",
       "      <td>647-659</td>\n",
       "      <td>Fingerprinting: Visualization and automatic an...</td>\n",
       "    </tr>\n",
       "    <tr>\n",
       "      <th>2</th>\n",
       "      <td>This study reports and analyzes the results of...</td>\n",
       "      <td>[{'name': 'R. Axelrod', 'papers_on_this_db': 5...</td>\n",
       "      <td>2</td>\n",
       "      <td>http://127.0.0.1:8000/year/1/</td>\n",
       "      <td>1980</td>\n",
       "      <td>Journal of Conflict Resolution</td>\n",
       "      <td>Axelrod1980b</td>\n",
       "      <td>[{'label': 'Probabilistic Ending Tournament'},...</td>\n",
       "      <td>[{'strategy_name': 'Tit For Tat'}, {'strategy_...</td>\n",
       "      <td>379-403</td>\n",
       "      <td>More Effective Choice in the Prisoner's Dilemma</td>\n",
       "    </tr>\n",
       "    <tr>\n",
       "      <th>3</th>\n",
       "      <td>Much attention has been given to the Prisoners...</td>\n",
       "      <td>[{'name': 'M. Nowak', 'papers_on_this_db': 2, ...</td>\n",
       "      <td>1</td>\n",
       "      <td>http://127.0.0.1:8000/year/6/</td>\n",
       "      <td>1992</td>\n",
       "      <td>Nature</td>\n",
       "      <td>Nowak1992</td>\n",
       "      <td>[{'label': 'Evolutionary Tournament'}, {'label...</td>\n",
       "      <td>[{'strategy_name': 'Always Cooperate'}, {'stra...</td>\n",
       "      <td>826-829</td>\n",
       "      <td>Evolutionary games and spatial chaos</td>\n",
       "    </tr>\n",
       "    <tr>\n",
       "      <th>4</th>\n",
       "      <td>Examined whether strategies other than the com...</td>\n",
       "      <td>[{'name': 'J. Bendor', 'papers_on_this_db': 1,...</td>\n",
       "      <td>1</td>\n",
       "      <td>http://127.0.0.1:8000/year/7/</td>\n",
       "      <td>1991</td>\n",
       "      <td>The Journal of Conflict Resolution</td>\n",
       "      <td>Bendor1991</td>\n",
       "      <td>[{'label': 'Noisy Tournament'}, {'label': 'Pro...</td>\n",
       "      <td>[{'strategy_name': 'Tit For Tat'}]</td>\n",
       "      <td>691-719</td>\n",
       "      <td>When in doubt... Cooperation in a Noisy Prison...</td>\n",
       "    </tr>\n",
       "    <tr>\n",
       "      <th>5</th>\n",
       "      <td></td>\n",
       "      <td>[{'name': 'D. Fudenberg', 'papers_on_this_db':...</td>\n",
       "      <td>1</td>\n",
       "      <td>http://127.0.0.1:8000/year/8/</td>\n",
       "      <td>1990</td>\n",
       "      <td>The American Economic Review</td>\n",
       "      <td>Fudenberg1990</td>\n",
       "      <td>[{'label': 'Evolutionary Tournament'}, {'label...</td>\n",
       "      <td>[]</td>\n",
       "      <td>274-279</td>\n",
       "      <td>Evolution and Cooperation in Noise Repeated Games</td>\n",
       "    </tr>\n",
       "    <tr>\n",
       "      <th>6</th>\n",
       "      <td>THE Prisoner's Dilemma is the leading metaphor...</td>\n",
       "      <td>[{'name': 'M. Nowak', 'papers_on_this_db': 2, ...</td>\n",
       "      <td>1</td>\n",
       "      <td>http://127.0.0.1:8000/year/9/</td>\n",
       "      <td>1993</td>\n",
       "      <td>Nature</td>\n",
       "      <td>Nowak1993a</td>\n",
       "      <td>[{'label': 'Evolutionary Tournament'}, {'label...</td>\n",
       "      <td>[{'strategy_name': 'Tit For Tat'}, {'strategy_...</td>\n",
       "      <td>56-58</td>\n",
       "      <td>Letters to Nature</td>\n",
       "    </tr>\n",
       "    <tr>\n",
       "      <th>7</th>\n",
       "      <td>Noise in the form of random errors in implemen...</td>\n",
       "      <td>[{'name': 'R. Axelrod', 'papers_on_this_db': 5...</td>\n",
       "      <td>1</td>\n",
       "      <td>http://127.0.0.1:8000/year/10/</td>\n",
       "      <td>1995</td>\n",
       "      <td>The Journal of Conflict Resolution</td>\n",
       "      <td>Axelrod1995</td>\n",
       "      <td>[{'label': 'Evolutionary Tournament'}, {'label...</td>\n",
       "      <td>[{'strategy_name': 'GTFT'}, {'strategy_name': ...</td>\n",
       "      <td>183-189</td>\n",
       "      <td>How to Cope with Noise in the Iterated Prisone...</td>\n",
       "    </tr>\n",
       "    <tr>\n",
       "      <th>8</th>\n",
       "      <td>The Evolution of Cooperation provides valuable...</td>\n",
       "      <td>[{'name': 'R. Axelrod', 'papers_on_this_db': 5...</td>\n",
       "      <td>1</td>\n",
       "      <td>http://127.0.0.1:8000/year/11/</td>\n",
       "      <td>1984</td>\n",
       "      <td></td>\n",
       "      <td>Axelrod1984</td>\n",
       "      <td>[{'label': 'Evolutionary Tournament'}, {'label...</td>\n",
       "      <td>[]</td>\n",
       "      <td></td>\n",
       "      <td>The Evolution of Cooperation</td>\n",
       "    </tr>\n",
       "    <tr>\n",
       "      <th>9</th>\n",
       "      <td>The model proposed in The Evolution of Coopera...</td>\n",
       "      <td>[{'name': 'R. Axelrod', 'papers_on_this_db': 5...</td>\n",
       "      <td>1</td>\n",
       "      <td>http://127.0.0.1:8000/year/12/</td>\n",
       "      <td>1988</td>\n",
       "      <td></td>\n",
       "      <td>Axelrod1988</td>\n",
       "      <td>[{'label': 'Evolutionary Tournament'}, {'label...</td>\n",
       "      <td>[]</td>\n",
       "      <td>1385-1390</td>\n",
       "      <td>The Further Evolution of Cooperation</td>\n",
       "    </tr>\n",
       "  </tbody>\n",
       "</table>\n",
       "</div>"
      ],
      "text/plain": [
       "                                            abstract  \\\n",
       "0  This is a “primer” on how to play the iterated...   \n",
       "1  Fingerprinting is a technique for generating a...   \n",
       "2  This study reports and analyzes the results of...   \n",
       "3  Much attention has been given to the Prisoners...   \n",
       "4  Examined whether strategies other than the com...   \n",
       "5                                                      \n",
       "6  THE Prisoner's Dilemma is the leading metaphor...   \n",
       "7  Noise in the form of random errors in implemen...   \n",
       "8  The Evolution of Cooperation provides valuable...   \n",
       "9  The model proposed in The Evolution of Coopera...   \n",
       "\n",
       "                                              author  \\\n",
       "0  [{'name': 'R. Axelrod', 'papers_on_this_db': 5...   \n",
       "1  [{'name': 'D. Ashlock', 'papers_on_this_db': 1...   \n",
       "2  [{'name': 'R. Axelrod', 'papers_on_this_db': 5...   \n",
       "3  [{'name': 'M. Nowak', 'papers_on_this_db': 2, ...   \n",
       "4  [{'name': 'J. Bendor', 'papers_on_this_db': 1,...   \n",
       "5  [{'name': 'D. Fudenberg', 'papers_on_this_db':...   \n",
       "6  [{'name': 'M. Nowak', 'papers_on_this_db': 2, ...   \n",
       "7  [{'name': 'R. Axelrod', 'papers_on_this_db': 5...   \n",
       "8  [{'name': 'R. Axelrod', 'papers_on_this_db': 5...   \n",
       "9  [{'name': 'R. Axelrod', 'papers_on_this_db': 5...   \n",
       "\n",
       "   date.papers_on_specific_year                        date.url  date.year  \\\n",
       "0                             2   http://127.0.0.1:8000/year/1/       1980   \n",
       "1                             1   http://127.0.0.1:8000/year/3/       2008   \n",
       "2                             2   http://127.0.0.1:8000/year/1/       1980   \n",
       "3                             1   http://127.0.0.1:8000/year/6/       1992   \n",
       "4                             1   http://127.0.0.1:8000/year/7/       1991   \n",
       "5                             1   http://127.0.0.1:8000/year/8/       1990   \n",
       "6                             1   http://127.0.0.1:8000/year/9/       1993   \n",
       "7                             1  http://127.0.0.1:8000/year/10/       1995   \n",
       "8                             1  http://127.0.0.1:8000/year/11/       1984   \n",
       "9                             1  http://127.0.0.1:8000/year/12/       1988   \n",
       "\n",
       "                                         journal            key  \\\n",
       "0             The Journal of Conflict Resolution   Axelrod1980a   \n",
       "1  IEEE Transactions on Evolutionary Computation    Ashlock2008   \n",
       "2                 Journal of Conflict Resolution   Axelrod1980b   \n",
       "3                                         Nature      Nowak1992   \n",
       "4             The Journal of Conflict Resolution     Bendor1991   \n",
       "5                   The American Economic Review  Fudenberg1990   \n",
       "6                                         Nature     Nowak1993a   \n",
       "7             The Journal of Conflict Resolution    Axelrod1995   \n",
       "8                                                   Axelrod1984   \n",
       "9                                                   Axelrod1988   \n",
       "\n",
       "                                              labels  \\\n",
       "0                   [{'label': 'Simple Tournament'}]   \n",
       "1                       [{'label': 'Fingerpriting'}]   \n",
       "2  [{'label': 'Probabilistic Ending Tournament'},...   \n",
       "3  [{'label': 'Evolutionary Tournament'}, {'label...   \n",
       "4  [{'label': 'Noisy Tournament'}, {'label': 'Pro...   \n",
       "5  [{'label': 'Evolutionary Tournament'}, {'label...   \n",
       "6  [{'label': 'Evolutionary Tournament'}, {'label...   \n",
       "7  [{'label': 'Evolutionary Tournament'}, {'label...   \n",
       "8  [{'label': 'Evolutionary Tournament'}, {'label...   \n",
       "9  [{'label': 'Evolutionary Tournament'}, {'label...   \n",
       "\n",
       "                                     list_strategies      pages  \\\n",
       "0  [{'strategy_name': 'Tit For Tat'}, {'strategy_...       3-25   \n",
       "1  [{'strategy_name': 'Tit For Tat'}, {'strategy_...    647-659   \n",
       "2  [{'strategy_name': 'Tit For Tat'}, {'strategy_...    379-403   \n",
       "3  [{'strategy_name': 'Always Cooperate'}, {'stra...    826-829   \n",
       "4                 [{'strategy_name': 'Tit For Tat'}]    691-719   \n",
       "5                                                 []    274-279   \n",
       "6  [{'strategy_name': 'Tit For Tat'}, {'strategy_...      56-58   \n",
       "7  [{'strategy_name': 'GTFT'}, {'strategy_name': ...    183-189   \n",
       "8                                                 []              \n",
       "9                                                 []  1385-1390   \n",
       "\n",
       "                                               title  \n",
       "0         Effective Choice in the Prisoner's Dilemma  \n",
       "1  Fingerprinting: Visualization and automatic an...  \n",
       "2    More Effective Choice in the Prisoner's Dilemma  \n",
       "3               Evolutionary games and spatial chaos  \n",
       "4  When in doubt... Cooperation in a Noisy Prison...  \n",
       "5  Evolution and Cooperation in Noise Repeated Games  \n",
       "6                                  Letters to Nature  \n",
       "7  How to Cope with Noise in the Iterated Prisone...  \n",
       "8                       The Evolution of Cooperation  \n",
       "9               The Further Evolution of Cooperation  "
      ]
     },
     "execution_count": 11,
     "metadata": {},
     "output_type": "execute_result"
    }
   ],
   "source": [
    "results"
   ]
  },
  {
   "cell_type": "code",
   "execution_count": 12,
   "metadata": {
    "collapsed": false
   },
   "outputs": [],
   "source": [
    "results.to_json(\"articles.json\")"
   ]
  },
  {
   "cell_type": "code",
   "execution_count": 13,
   "metadata": {
    "collapsed": false
   },
   "outputs": [],
   "source": [
    "# an example of writing to json\n",
    "new_object = {\"key\": \"Glynatsi2016\",\n",
    "            \"title\": \"A title\",\n",
    "            \"author\": [\n",
    "                {\n",
    "                    \"name\": \"N. Glynatsi\"\n",
    "                }\n",
    "            ],\n",
    "            \"date\": {\n",
    "                \"year\": 2016\n",
    "            },\n",
    "            \"abstract\": \"Blah\",\n",
    "            \"pages\": \"1-2\",\n",
    "            \"journal\": \"A Journal\",\n",
    "            \"labels\": [\n",
    "                {\n",
    "                    \"label\": \"Simple Tournament\"\n",
    "                }\n",
    "            ],\n",
    "            \"list_strategies\": [\n",
    "                {\n",
    "                    \"strategy_name\": \"Tit For Tat\"\n",
    "                }\n",
    "            ]\n",
    "        }"
   ]
  },
  {
   "cell_type": "code",
   "execution_count": 18,
   "metadata": {
    "collapsed": true
   },
   "outputs": [],
   "source": [
    "def run_post(new_article):\n",
    "    url = 'http://127.0.0.1:8000/article/'\n",
    "    headers = {'Content-Type': 'application/json'}\n",
    "    \n",
    "    r = requests.post(url, data=json.dumps(new_article), auth=(\"nikoleta\", password), headers=headers)\n",
    "    \n",
    "    return r.status_code"
   ]
  },
  {
   "cell_type": "code",
   "execution_count": 15,
   "metadata": {
    "collapsed": false
   },
   "outputs": [],
   "source": [
    "def run_get():\n",
    "    url = 'http://127.0.0.1:8000/article/'\n",
    "\n",
    "    # this issues a GET to the url. replace \"get\" with \"post\", \"head\",\n",
    "    # \"put\", \"patch\"... to make a request using a different method\n",
    "    r = requests.get(url, auth=(\"nikoleta\", password))\n",
    "\n",
    "    return json.dumps(r.json()['results'], indent=4), r.status_code"
   ]
  },
  {
   "cell_type": "code",
   "execution_count": 16,
   "metadata": {
    "collapsed": false
   },
   "outputs": [],
   "source": [
    "example_results, status = run_get()"
   ]
  },
  {
   "cell_type": "code",
   "execution_count": 19,
   "metadata": {
    "collapsed": false
   },
   "outputs": [
    {
     "data": {
      "text/plain": [
       "400"
      ]
     },
     "execution_count": 19,
     "metadata": {},
     "output_type": "execute_result"
    }
   ],
   "source": [
    "run_post(new_article=new_object)"
   ]
  }
 ],
 "metadata": {
  "anaconda-cloud": {},
  "kernelspec": {
   "display_name": "Python [Root]",
   "language": "python",
   "name": "Python [Root]"
  },
  "language_info": {
   "codemirror_mode": {
    "name": "ipython",
    "version": 3
   },
   "file_extension": ".py",
   "mimetype": "text/x-python",
   "name": "python",
   "nbconvert_exporter": "python",
   "pygments_lexer": "ipython3",
   "version": "3.5.2"
  }
 },
 "nbformat": 4,
 "nbformat_minor": 0
}
