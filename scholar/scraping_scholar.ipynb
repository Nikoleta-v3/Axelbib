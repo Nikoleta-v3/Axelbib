{
 "cells": [
  {
   "cell_type": "code",
   "execution_count": 1,
   "metadata": {
    "collapsed": true
   },
   "outputs": [],
   "source": [
    "import pandas as pd"
   ]
  },
  {
   "cell_type": "code",
   "execution_count": 16,
   "metadata": {
    "collapsed": false
   },
   "outputs": [
    {
     "data": {
      "text/html": [
       "<div>\n",
       "<table border=\"1\" class=\"dataframe\">\n",
       "  <thead>\n",
       "    <tr style=\"text-align: right;\">\n",
       "      <th></th>\n",
       "      <th></th>\n",
       "      <th>Title</th>\n",
       "      <th>url</th>\n",
       "      <th>Year</th>\n",
       "      <th>Citations</th>\n",
       "      <th>Versions</th>\n",
       "      <th>ClusterID</th>\n",
       "      <th>Citations list</th>\n",
       "      <th>Versions list</th>\n",
       "      <th>Abstract</th>\n",
       "    </tr>\n",
       "  </thead>\n",
       "  <tbody>\n",
       "    <tr>\n",
       "      <th>Some tests of specification for panel data: Monte Carlo evidence and an application to employment equations</th>\n",
       "      <th>http://restud.oxfordjournals.org/content/58/2/277.short</th>\n",
       "      <td>1991</td>\n",
       "      <td>19446</td>\n",
       "      <td>17</td>\n",
       "      <td>5629017673244607219</td>\n",
       "      <td>None</td>\n",
       "      <td>http://scholar.google.com/scholar?cites=562901...</td>\n",
       "      <td>http://scholar.google.com/scholar?cluster=5629...</td>\n",
       "      <td>None</td>\n",
       "      <td>Abstract This paper presents specification tes...</td>\n",
       "    </tr>\n",
       "    <tr>\n",
       "      <th>Ordered mesoporous molecular sieves synthesized by a liquid-crystal template mechanism</th>\n",
       "      <th>http://bbs.sciencenet.cn/bbs/upload/15320200207j5.pdf</th>\n",
       "      <td>1992</td>\n",
       "      <td>16403</td>\n",
       "      <td>6</td>\n",
       "      <td>10121639372800298319</td>\n",
       "      <td>http://bbs.sciencenet.cn/bbs/upload/1532020020...</td>\n",
       "      <td>http://scholar.google.com/scholar?cites=101216...</td>\n",
       "      <td>http://scholar.google.com/scholar?cluster=1012...</td>\n",
       "      <td>None</td>\n",
       "      <td>40torr, 49 wt% n-hexane at 40torr, and 67 wt% ...</td>\n",
       "    </tr>\n",
       "    <tr>\n",
       "      <th>A computational approach to edge detection</th>\n",
       "      <th>http://ieeexplore.ieee.org/xpls/abs_all.jsp?arnumber=4767851</th>\n",
       "      <td>1986</td>\n",
       "      <td>24724</td>\n",
       "      <td>24</td>\n",
       "      <td>6445737130860653197</td>\n",
       "      <td>None</td>\n",
       "      <td>http://scholar.google.com/scholar?cites=644573...</td>\n",
       "      <td>http://scholar.google.com/scholar?cluster=6445...</td>\n",
       "      <td>None</td>\n",
       "      <td>Abstract-This paper describes a computational ...</td>\n",
       "    </tr>\n",
       "    <tr>\n",
       "      <th>The varieties of religious experience</th>\n",
       "      <th>http://books.google.com/books?hl=en&amp;lr=&amp;id=-LhkseyUMgAC&amp;oi=fnd&amp;pg=PR11&amp;dq=--before&amp;ots=hu9vVS4hs2&amp;sig=xKkA4RwdDSgObPyFg1AxFvjvmNw</th>\n",
       "      <td>1985</td>\n",
       "      <td>13178</td>\n",
       "      <td>81</td>\n",
       "      <td>697838791548754207</td>\n",
       "      <td>None</td>\n",
       "      <td>http://scholar.google.com/scholar?cites=697838...</td>\n",
       "      <td>http://scholar.google.com/scholar?cluster=6978...</td>\n",
       "      <td>None</td>\n",
       "      <td>The Varieties of Religious Experience, first d...</td>\n",
       "    </tr>\n",
       "    <tr>\n",
       "      <th>Abundances of the elements: Meteoritic and solar</th>\n",
       "      <th>http://www.sciencedirect.com/science/article/pii/001670378990286X</th>\n",
       "      <td>1989</td>\n",
       "      <td>10417</td>\n",
       "      <td>19</td>\n",
       "      <td>7168043835691333135</td>\n",
       "      <td>None</td>\n",
       "      <td>http://scholar.google.com/scholar?cites=716804...</td>\n",
       "      <td>http://scholar.google.com/scholar?cluster=7168...</td>\n",
       "      <td>None</td>\n",
       "      <td>Abstract New abundance tables have been compil...</td>\n",
       "    </tr>\n",
       "  </tbody>\n",
       "</table>\n",
       "</div>"
      ],
      "text/plain": [
       "                                                                                                       Title  \\\n",
       "Some tests of specification for panel data: Mon... http://restud.oxfordjournals.org/content/58/2/2...   1991   \n",
       "Ordered mesoporous molecular sieves synthesized... http://bbs.sciencenet.cn/bbs/upload/15320200207...   1992   \n",
       "A computational approach to edge detection         http://ieeexplore.ieee.org/xpls/abs_all.jsp?arn...   1986   \n",
       "The varieties of religious experience              http://books.google.com/books?hl=en&lr=&id=-Lhk...   1985   \n",
       "Abundances of the elements: Meteoritic and solar   http://www.sciencedirect.com/science/article/pi...   1989   \n",
       "\n",
       "                                                                                                         url  \\\n",
       "Some tests of specification for panel data: Mon... http://restud.oxfordjournals.org/content/58/2/2...  19446   \n",
       "Ordered mesoporous molecular sieves synthesized... http://bbs.sciencenet.cn/bbs/upload/15320200207...  16403   \n",
       "A computational approach to edge detection         http://ieeexplore.ieee.org/xpls/abs_all.jsp?arn...  24724   \n",
       "The varieties of religious experience              http://books.google.com/books?hl=en&lr=&id=-Lhk...  13178   \n",
       "Abundances of the elements: Meteoritic and solar   http://www.sciencedirect.com/science/article/pi...  10417   \n",
       "\n",
       "                                                                                                       Year  \\\n",
       "Some tests of specification for panel data: Mon... http://restud.oxfordjournals.org/content/58/2/2...    17   \n",
       "Ordered mesoporous molecular sieves synthesized... http://bbs.sciencenet.cn/bbs/upload/15320200207...     6   \n",
       "A computational approach to edge detection         http://ieeexplore.ieee.org/xpls/abs_all.jsp?arn...    24   \n",
       "The varieties of religious experience              http://books.google.com/books?hl=en&lr=&id=-Lhk...    81   \n",
       "Abundances of the elements: Meteoritic and solar   http://www.sciencedirect.com/science/article/pi...    19   \n",
       "\n",
       "                                                                                                                  Citations  \\\n",
       "Some tests of specification for panel data: Mon... http://restud.oxfordjournals.org/content/58/2/2...   5629017673244607219   \n",
       "Ordered mesoporous molecular sieves synthesized... http://bbs.sciencenet.cn/bbs/upload/15320200207...  10121639372800298319   \n",
       "A computational approach to edge detection         http://ieeexplore.ieee.org/xpls/abs_all.jsp?arn...   6445737130860653197   \n",
       "The varieties of religious experience              http://books.google.com/books?hl=en&lr=&id=-Lhk...    697838791548754207   \n",
       "Abundances of the elements: Meteoritic and solar   http://www.sciencedirect.com/science/article/pi...   7168043835691333135   \n",
       "\n",
       "                                                                                                                                                Versions  \\\n",
       "Some tests of specification for panel data: Mon... http://restud.oxfordjournals.org/content/58/2/2...                                               None   \n",
       "Ordered mesoporous molecular sieves synthesized... http://bbs.sciencenet.cn/bbs/upload/15320200207...  http://bbs.sciencenet.cn/bbs/upload/1532020020...   \n",
       "A computational approach to edge detection         http://ieeexplore.ieee.org/xpls/abs_all.jsp?arn...                                               None   \n",
       "The varieties of religious experience              http://books.google.com/books?hl=en&lr=&id=-Lhk...                                               None   \n",
       "Abundances of the elements: Meteoritic and solar   http://www.sciencedirect.com/science/article/pi...                                               None   \n",
       "\n",
       "                                                                                                                                               ClusterID  \\\n",
       "Some tests of specification for panel data: Mon... http://restud.oxfordjournals.org/content/58/2/2...  http://scholar.google.com/scholar?cites=562901...   \n",
       "Ordered mesoporous molecular sieves synthesized... http://bbs.sciencenet.cn/bbs/upload/15320200207...  http://scholar.google.com/scholar?cites=101216...   \n",
       "A computational approach to edge detection         http://ieeexplore.ieee.org/xpls/abs_all.jsp?arn...  http://scholar.google.com/scholar?cites=644573...   \n",
       "The varieties of religious experience              http://books.google.com/books?hl=en&lr=&id=-Lhk...  http://scholar.google.com/scholar?cites=697838...   \n",
       "Abundances of the elements: Meteoritic and solar   http://www.sciencedirect.com/science/article/pi...  http://scholar.google.com/scholar?cites=716804...   \n",
       "\n",
       "                                                                                                                                          Citations list  \\\n",
       "Some tests of specification for panel data: Mon... http://restud.oxfordjournals.org/content/58/2/2...  http://scholar.google.com/scholar?cluster=5629...   \n",
       "Ordered mesoporous molecular sieves synthesized... http://bbs.sciencenet.cn/bbs/upload/15320200207...  http://scholar.google.com/scholar?cluster=1012...   \n",
       "A computational approach to edge detection         http://ieeexplore.ieee.org/xpls/abs_all.jsp?arn...  http://scholar.google.com/scholar?cluster=6445...   \n",
       "The varieties of religious experience              http://books.google.com/books?hl=en&lr=&id=-Lhk...  http://scholar.google.com/scholar?cluster=6978...   \n",
       "Abundances of the elements: Meteoritic and solar   http://www.sciencedirect.com/science/article/pi...  http://scholar.google.com/scholar?cluster=7168...   \n",
       "\n",
       "                                                                                                      Versions list  \\\n",
       "Some tests of specification for panel data: Mon... http://restud.oxfordjournals.org/content/58/2/2...          None   \n",
       "Ordered mesoporous molecular sieves synthesized... http://bbs.sciencenet.cn/bbs/upload/15320200207...          None   \n",
       "A computational approach to edge detection         http://ieeexplore.ieee.org/xpls/abs_all.jsp?arn...          None   \n",
       "The varieties of religious experience              http://books.google.com/books?hl=en&lr=&id=-Lhk...          None   \n",
       "Abundances of the elements: Meteoritic and solar   http://www.sciencedirect.com/science/article/pi...          None   \n",
       "\n",
       "                                                                                                                                                Abstract  \n",
       "Some tests of specification for panel data: Mon... http://restud.oxfordjournals.org/content/58/2/2...  Abstract This paper presents specification tes...  \n",
       "Ordered mesoporous molecular sieves synthesized... http://bbs.sciencenet.cn/bbs/upload/15320200207...  40torr, 49 wt% n-hexane at 40torr, and 67 wt% ...  \n",
       "A computational approach to edge detection         http://ieeexplore.ieee.org/xpls/abs_all.jsp?arn...  Abstract-This paper describes a computational ...  \n",
       "The varieties of religious experience              http://books.google.com/books?hl=en&lr=&id=-Lhk...  The Varieties of Religious Experience, first d...  \n",
       "Abundances of the elements: Meteoritic and solar   http://www.sciencedirect.com/science/article/pi...  Abstract New abundance tables have been compil...  "
      ]
     },
     "execution_count": 16,
     "metadata": {},
     "output_type": "execute_result"
    }
   ],
   "source": [
    "df = pd.read_csv(\"1980-1995.csv\", sep=\"|\", header=None, names=[\"Title\", \"url\", \"Year\", \"Citations\", \"Versions\", \"ClusterID\", \"Citations list\", \"Versions list\", \"Abstract\"])\n",
    "df.head()"
   ]
  },
  {
   "cell_type": "code",
   "execution_count": 14,
   "metadata": {
    "collapsed": true
   },
   "outputs": [],
   "source": [
    "pd.read_csv?"
   ]
  },
  {
   "cell_type": "code",
   "execution_count": null,
   "metadata": {
    "collapsed": true
   },
   "outputs": [],
   "source": []
  }
 ],
 "metadata": {
  "anaconda-cloud": {},
  "kernelspec": {
   "display_name": "Python [default]",
   "language": "python",
   "name": "python3"
  },
  "language_info": {
   "codemirror_mode": {
    "name": "ipython",
    "version": 3
   },
   "file_extension": ".py",
   "mimetype": "text/x-python",
   "name": "python",
   "nbconvert_exporter": "python",
   "pygments_lexer": "ipython3",
   "version": "3.5.2"
  }
 },
 "nbformat": 4,
 "nbformat_minor": 1
}
